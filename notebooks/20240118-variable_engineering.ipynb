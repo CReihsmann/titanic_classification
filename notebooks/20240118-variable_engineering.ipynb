{
 "cells": [
  {
   "cell_type": "code",
   "execution_count": 1,
   "metadata": {},
   "outputs": [],
   "source": [
    "import pandas as pd\n",
    "import numpy as np\n",
    "import matplotlib.pyplot as plt \n",
    "import seaborn as sns\n",
    "import re\n",
    "\n",
    "pd.set_option('display.max_columns', 500)"
   ]
  },
  {
   "cell_type": "code",
   "execution_count": 89,
   "metadata": {},
   "outputs": [],
   "source": [
    "# read in db\n",
    "titanic = pd.read_csv('../data/Titanic-Dataset.csv')"
   ]
  },
  {
   "cell_type": "code",
   "execution_count": 90,
   "metadata": {},
   "outputs": [
    {
     "data": {
      "text/html": [
       "<div>\n",
       "<style scoped>\n",
       "    .dataframe tbody tr th:only-of-type {\n",
       "        vertical-align: middle;\n",
       "    }\n",
       "\n",
       "    .dataframe tbody tr th {\n",
       "        vertical-align: top;\n",
       "    }\n",
       "\n",
       "    .dataframe thead th {\n",
       "        text-align: right;\n",
       "    }\n",
       "</style>\n",
       "<table border=\"1\" class=\"dataframe\">\n",
       "  <thead>\n",
       "    <tr style=\"text-align: right;\">\n",
       "      <th></th>\n",
       "      <th>PassengerId</th>\n",
       "      <th>Survived</th>\n",
       "      <th>Pclass</th>\n",
       "      <th>Name</th>\n",
       "      <th>Sex</th>\n",
       "      <th>Age</th>\n",
       "      <th>SibSp</th>\n",
       "      <th>Parch</th>\n",
       "      <th>Ticket</th>\n",
       "      <th>Fare</th>\n",
       "      <th>Cabin</th>\n",
       "      <th>Embarked</th>\n",
       "      <th>ticket_count</th>\n",
       "    </tr>\n",
       "  </thead>\n",
       "  <tbody>\n",
       "    <tr>\n",
       "      <th>0</th>\n",
       "      <td>1</td>\n",
       "      <td>0</td>\n",
       "      <td>3</td>\n",
       "      <td>Braund, Mr. Owen Harris</td>\n",
       "      <td>male</td>\n",
       "      <td>22.0</td>\n",
       "      <td>1</td>\n",
       "      <td>0</td>\n",
       "      <td>A/5 21171</td>\n",
       "      <td>7.2500</td>\n",
       "      <td>NaN</td>\n",
       "      <td>S</td>\n",
       "      <td>1</td>\n",
       "    </tr>\n",
       "    <tr>\n",
       "      <th>1</th>\n",
       "      <td>2</td>\n",
       "      <td>1</td>\n",
       "      <td>1</td>\n",
       "      <td>Cumings, Mrs. John Bradley (Florence Briggs Th...</td>\n",
       "      <td>female</td>\n",
       "      <td>38.0</td>\n",
       "      <td>1</td>\n",
       "      <td>0</td>\n",
       "      <td>PC 17599</td>\n",
       "      <td>71.2833</td>\n",
       "      <td>C85</td>\n",
       "      <td>C</td>\n",
       "      <td>1</td>\n",
       "    </tr>\n",
       "  </tbody>\n",
       "</table>\n",
       "</div>"
      ],
      "text/plain": [
       "   PassengerId  Survived  Pclass  \\\n",
       "0            1         0       3   \n",
       "1            2         1       1   \n",
       "\n",
       "                                                Name     Sex   Age  SibSp  \\\n",
       "0                            Braund, Mr. Owen Harris    male  22.0      1   \n",
       "1  Cumings, Mrs. John Bradley (Florence Briggs Th...  female  38.0      1   \n",
       "\n",
       "   Parch     Ticket     Fare Cabin Embarked  ticket_count  \n",
       "0      0  A/5 21171   7.2500   NaN        S             1  \n",
       "1      0   PC 17599  71.2833   C85        C             1  "
      ]
     },
     "execution_count": 90,
     "metadata": {},
     "output_type": "execute_result"
    }
   ],
   "source": [
    "# add colun detailing # of other people that shared ticket\n",
    "ticket_count = pd.DataFrame(titanic['Ticket'].value_counts()).reset_index().rename({'index':'Ticket','Ticket':'ticket_count'}, axis=1)\n",
    "\n",
    "titanic = titanic.merge(ticket_count, on='Ticket', how='left')\n",
    "\n",
    "titanic.head(2)"
   ]
  },
  {
   "cell_type": "code",
   "execution_count": 91,
   "metadata": {},
   "outputs": [
    {
     "name": "stderr",
     "output_type": "stream",
     "text": [
      "C:\\Users\\Conrad\\AppData\\Local\\Temp\\ipykernel_33008\\1441012213.py:15: FutureWarning: The default value of regex will change from True to False in a future version.\n",
      "  titanic_mrs['Name'] = titanic_mrs['Name'].str.replace(r'\\s\\(\\D+\\)', '').str.replace('Mrs', 'Mr')\n"
     ]
    },
    {
     "data": {
      "text/plain": [
       "129"
      ]
     },
     "metadata": {},
     "output_type": "display_data"
    },
    {
     "data": {
      "text/plain": [
       "40"
      ]
     },
     "metadata": {},
     "output_type": "display_data"
    },
    {
     "data": {
      "text/plain": [
       "40"
      ]
     },
     "metadata": {},
     "output_type": "display_data"
    }
   ],
   "source": [
    "# Finding married couples travelling together and married women traveling alone\n",
    "married_women = [x for x in titanic['Name'] if re.search('Mrs', x)]\n",
    "\n",
    "# find husbands by changing title and remoing maiden name\n",
    "husbands = [re.sub('Mrs', 'Mr', x) for x in married_women]\n",
    "husbands = [re.sub(r'\\s\\(\\D+\\)', '', x) for x in husbands]\n",
    "\n",
    "# differentiate if husbands are on board by matching lists to column\n",
    "present_husbands_list = [x for x in titanic['Name'] if x in husbands]\n",
    "\n",
    "absent_husbands_list = [x for x in husbands if x not in husbands]\n",
    "\n",
    "# Tie husbands back to wives on ship by reversing Mr/Mrs and getting passenger ID\n",
    "titanic_mrs = titanic[(titanic['Sex'] == 'female') & (titanic['Name'].str.contains('Mrs'))][['PassengerId','Name']]\n",
    "titanic_mrs['Name'] = titanic_mrs['Name'].str.replace(r'\\s\\(\\D+\\)', '').str.replace('Mrs', 'Mr')\n",
    "mrs_acc_id = titanic_mrs[titanic_mrs['Name'].isin(present_husbands_list)]['PassengerId'].tolist()\n",
    "\n",
    "accompanied_wives_list = titanic[titanic['PassengerId'].isin(mrs_acc_id)]['Name'].tolist()\n",
    "\n",
    "# checking to see if numbers are right\n",
    "display(len(husbands))\n",
    "display(len(present_husbands_list))\n",
    "display(len(accompanied_wives_list))"
   ]
  },
  {
   "cell_type": "code",
   "execution_count": 92,
   "metadata": {},
   "outputs": [],
   "source": [
    "# add column assigning whether spouse is on board\n",
    "titanic.loc[titanic['Name'].isin(present_husbands_list) | titanic['Name'].isin(accompanied_wives_list), 'spouse_present'] = int(1)\n",
    "titanic.loc[~titanic['Name'].isin(present_husbands_list) & ~titanic['Name'].isin(accompanied_wives_list), 'spouse_present'] = int(0)"
   ]
  },
  {
   "cell_type": "code",
   "execution_count": 93,
   "metadata": {},
   "outputs": [],
   "source": [
    "# split cabin into letter and number columns\n",
    "titanic['cabin_letter'] = titanic['Cabin'].str[0].fillna('none')\n",
    "titanic['cabin_number'] = titanic['Cabin'].str.findall(r'[0-9]+').str[0].fillna(0).astype('int64')\n",
    "# titanic['cabin_number'] = titanic['cabin_number'].str.findall(r'/d+')#.str[1].fillna(0).astype(int)"
   ]
  },
  {
   "cell_type": "code",
   "execution_count": 94,
   "metadata": {},
   "outputs": [],
   "source": [
    "# Separated ticket out into initial text and number\n",
    "titanic['ticket_letter'] = titanic['Ticket'].str.findall(r'\\D+').str[0].fillna('none')\n",
    "titanic['ticket_number'] = titanic['Ticket'].str.findall(r'\\s*(\\d+$)').str[0].fillna(0).astype('int')"
   ]
  },
  {
   "cell_type": "code",
   "execution_count": 95,
   "metadata": {},
   "outputs": [],
   "source": [
    "# add colun assigning those who are traveling with sibling (differentiate from spouse) \n",
    "titanic.loc[(titanic['SibSp'] == 1) & (titanic['spouse_present'] == 0), 'sibling_present'] = int(1)\n",
    "titanic['sibling_present'] = titanic['sibling_present'].fillna(0)"
   ]
  },
  {
   "cell_type": "code",
   "execution_count": 96,
   "metadata": {},
   "outputs": [],
   "source": [
    "titanic.loc[titanic['Age'].isna(), 'Age'] = titanic['Age'].median()\n",
    "titanic.loc[titanic['Embarked'].isna(), 'Embarked'] = 'unknown'"
   ]
  },
  {
   "cell_type": "code",
   "execution_count": 97,
   "metadata": {},
   "outputs": [],
   "source": [
    "titanic_final = titanic.drop(columns=['Name','Ticket','Cabin'])\n",
    "\n",
    "titanic_final.to_csv('../data/classification_dataset.csv')"
   ]
  },
  {
   "cell_type": "code",
   "execution_count": 70,
   "metadata": {},
   "outputs": [
    {
     "data": {
      "text/html": [
       "<div>\n",
       "<style scoped>\n",
       "    .dataframe tbody tr th:only-of-type {\n",
       "        vertical-align: middle;\n",
       "    }\n",
       "\n",
       "    .dataframe tbody tr th {\n",
       "        vertical-align: top;\n",
       "    }\n",
       "\n",
       "    .dataframe thead th {\n",
       "        text-align: right;\n",
       "    }\n",
       "</style>\n",
       "<table border=\"1\" class=\"dataframe\">\n",
       "  <thead>\n",
       "    <tr style=\"text-align: right;\">\n",
       "      <th></th>\n",
       "      <th>PassengerId</th>\n",
       "      <th>Survived</th>\n",
       "      <th>Pclass</th>\n",
       "      <th>Name</th>\n",
       "      <th>Sex</th>\n",
       "      <th>Age</th>\n",
       "      <th>SibSp</th>\n",
       "      <th>Parch</th>\n",
       "      <th>Ticket</th>\n",
       "      <th>Fare</th>\n",
       "      <th>Cabin</th>\n",
       "      <th>Embarked</th>\n",
       "      <th>ticket_count</th>\n",
       "      <th>spouse_present</th>\n",
       "      <th>cabin_letter</th>\n",
       "      <th>cabin_number</th>\n",
       "      <th>ticket_letter</th>\n",
       "      <th>ticket_number</th>\n",
       "      <th>sibling_present</th>\n",
       "    </tr>\n",
       "  </thead>\n",
       "  <tbody>\n",
       "  </tbody>\n",
       "</table>\n",
       "</div>"
      ],
      "text/plain": [
       "Empty DataFrame\n",
       "Columns: [PassengerId, Survived, Pclass, Name, Sex, Age, SibSp, Parch, Ticket, Fare, Cabin, Embarked, ticket_count, spouse_present, cabin_letter, cabin_number, ticket_letter, ticket_number, sibling_present]\n",
       "Index: []"
      ]
     },
     "execution_count": 70,
     "metadata": {},
     "output_type": "execute_result"
    }
   ],
   "source": [
    "titanic[titanic['Age'].isna()]"
   ]
  },
  {
   "cell_type": "code",
   "execution_count": 77,
   "metadata": {},
   "outputs": [
    {
     "data": {
      "text/html": [
       "<div>\n",
       "<style scoped>\n",
       "    .dataframe tbody tr th:only-of-type {\n",
       "        vertical-align: middle;\n",
       "    }\n",
       "\n",
       "    .dataframe tbody tr th {\n",
       "        vertical-align: top;\n",
       "    }\n",
       "\n",
       "    .dataframe thead th {\n",
       "        text-align: right;\n",
       "    }\n",
       "</style>\n",
       "<table border=\"1\" class=\"dataframe\">\n",
       "  <thead>\n",
       "    <tr style=\"text-align: right;\">\n",
       "      <th></th>\n",
       "      <th>PassengerId</th>\n",
       "      <th>Survived</th>\n",
       "      <th>Pclass</th>\n",
       "      <th>Sex</th>\n",
       "      <th>Age</th>\n",
       "      <th>SibSp</th>\n",
       "      <th>Parch</th>\n",
       "      <th>Fare</th>\n",
       "      <th>Embarked</th>\n",
       "      <th>ticket_count</th>\n",
       "      <th>spouse_present</th>\n",
       "      <th>cabin_letter</th>\n",
       "      <th>cabin_number</th>\n",
       "      <th>ticket_letter</th>\n",
       "      <th>ticket_number</th>\n",
       "      <th>sibling_present</th>\n",
       "    </tr>\n",
       "  </thead>\n",
       "  <tbody>\n",
       "  </tbody>\n",
       "</table>\n",
       "</div>"
      ],
      "text/plain": [
       "Empty DataFrame\n",
       "Columns: [PassengerId, Survived, Pclass, Sex, Age, SibSp, Parch, Fare, Embarked, ticket_count, spouse_present, cabin_letter, cabin_number, ticket_letter, ticket_number, sibling_present]\n",
       "Index: []"
      ]
     },
     "execution_count": 77,
     "metadata": {},
     "output_type": "execute_result"
    }
   ],
   "source": [
    "titanic_final[titanic_final['ticket_number'].isna()]"
   ]
  },
  {
   "cell_type": "code",
   "execution_count": 98,
   "metadata": {},
   "outputs": [
    {
     "data": {
      "text/plain": [
       "PassengerId          int64\n",
       "Survived            object\n",
       "Pclass               int64\n",
       "Sex                 object\n",
       "Age                float64\n",
       "SibSp                int64\n",
       "Parch                int64\n",
       "Fare               float64\n",
       "Embarked            object\n",
       "ticket_count         int64\n",
       "spouse_present     float64\n",
       "cabin_letter        object\n",
       "cabin_number         int64\n",
       "ticket_letter       object\n",
       "ticket_number        int32\n",
       "sibling_present    float64\n",
       "dtype: object"
      ]
     },
     "execution_count": 98,
     "metadata": {},
     "output_type": "execute_result"
    }
   ],
   "source": [
    "titanic_final.dtypes"
   ]
  }
 ],
 "metadata": {
  "kernelspec": {
   "display_name": "p310",
   "language": "python",
   "name": "python3"
  },
  "language_info": {
   "codemirror_mode": {
    "name": "ipython",
    "version": 3
   },
   "file_extension": ".py",
   "mimetype": "text/x-python",
   "name": "python",
   "nbconvert_exporter": "python",
   "pygments_lexer": "ipython3",
   "version": "3.10.13"
  }
 },
 "nbformat": 4,
 "nbformat_minor": 2
}
